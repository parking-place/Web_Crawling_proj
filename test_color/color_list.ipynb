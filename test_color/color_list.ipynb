{
 "cells": [
  {
   "cell_type": "code",
   "execution_count": null,
   "metadata": {},
   "outputs": [],
   "source": []
  },
  {
   "cell_type": "code",
   "execution_count": null,
   "metadata": {},
   "outputs": [],
   "source": [
    "# 랜덤한 색상을 헥스코드로 생성\n",
    "def rand_hex_color():\n",
    "    import random\n",
    "    r = lambda: random.randint(0, 255)\n",
    "    return '#%02X%02X%02X' % (r(), r(), r())"
   ]
  },
  {
   "cell_type": "code",
   "execution_count": null,
   "metadata": {},
   "outputs": [],
   "source": [
    "# n을 입력받아 n길이의 랜덤하지만 겹치지않는 헥스코드 리스트를 반환\n",
    "def rand_hex_list(n):\n",
    "    hex_list = []\n",
    "    for i in range(n):\n",
    "        while True:\n",
    "            hex_code = rand_hex_color()\n",
    "            if hex_code not in hex_list:\n",
    "                hex_list.append(hex_code)\n",
    "                break\n",
    "    return hex_list"
   ]
  },
  {
   "cell_type": "code",
   "execution_count": null,
   "metadata": {},
   "outputs": [],
   "source": [
    "def rand_hex_list(n):\n",
    "    import random\n",
    "    hex_list = []\n",
    "    while len(hex_list) < n:\n",
    "        # 16진수 코드 생성\n",
    "        hex_code = '#' + ''.join(random.choices('0123456789ABCDEF', k=6))\n",
    "        # 리스트에 있는 코드와 시각적인 차이가 있는지 확인\n",
    "        distinct = True\n",
    "        for color in hex_list:\n",
    "            # RGB 공간에서 유클리드 거리로 색상 차이 계산\n",
    "            diff = sum([(int(hex_code[i:i+2], 16) - int(color[i:i+2], 16))**2 for i in (1, 3, 5)])\n",
    "            if diff < 500:\n",
    "                distinct = False\n",
    "                break\n",
    "        if distinct:\n",
    "            hex_list.append(hex_code)\n",
    "    return hex_list\n"
   ]
  },
  {
   "cell_type": "code",
   "execution_count": null,
   "metadata": {},
   "outputs": [],
   "source": [
    "def rand_hex_list_hsv(n, s = 0.5, v = 1.0):\n",
    "    import colorsys\n",
    "    # 색상을 저장할 리스트 초기화\n",
    "    colors = []\n",
    "    \n",
    "    if s < 0 or s > 1: s = 0.5\n",
    "    if v < 0 or v > 1: v = 1.0\n",
    "    \n",
    "    # HSV 색상 공간에서 색상(H) 값의 간격 계산\n",
    "    interval = 1.0 / (n)\n",
    "    \n",
    "    # HSV 색상 공간에서 색상(H) 값의 리스트 생성\n",
    "    for i in range(n):\n",
    "        # HSV 색상 공간에서 색상(H) 값 계산\n",
    "        h = i * interval\n",
    "        \n",
    "        # HSV 색상 공간에서 RGB 색상 공간으로 변환\n",
    "        hsv = (h, s, v)\n",
    "        rgb = tuple(round(i * 255) for i in colorsys.hsv_to_rgb(*hsv))\n",
    "        \n",
    "        # RGB 색상을 16진수로 변환\n",
    "        hex_code = '#{:02x}{:02x}{:02x}'.format(*rgb)\n",
    "        \n",
    "        # 리스트에 추가\n",
    "        colors.append(hex_code)\n",
    "        \n",
    "    return colors"
   ]
  }
 ],
 "metadata": {
  "language_info": {
   "name": "python"
  },
  "orig_nbformat": 4
 },
 "nbformat": 4,
 "nbformat_minor": 2
}
